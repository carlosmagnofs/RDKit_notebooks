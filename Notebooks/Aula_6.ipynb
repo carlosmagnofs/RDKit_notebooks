{
  "nbformat": 4,
  "nbformat_minor": 0,
  "metadata": {
    "colab": {
      "provenance": []
    },
    "kernelspec": {
      "name": "python3",
      "display_name": "Python 3"
    },
    "language_info": {
      "name": "python"
    }
  },
  "cells": [
    {
      "cell_type": "markdown",
      "source": [
        "# **PESQUISA DE SUBESTRUTURAS**"
      ],
      "metadata": {
        "id": "9ifVZ6eQ2nCp"
      }
    },
    {
      "cell_type": "code",
      "source": [
        "%%capture\n",
        "!pip install rdkit"
      ],
      "metadata": {
        "id": "kaA2RpQF3CPb"
      },
      "execution_count": null,
      "outputs": []
    },
    {
      "cell_type": "code",
      "source": [
        "from rdkit import Chem"
      ],
      "metadata": {
        "id": "UzKXnvx33Hg5"
      },
      "execution_count": null,
      "outputs": []
    },
    {
      "cell_type": "code",
      "source": [
        "mol = Chem.MolFromSmiles('c1ccccc1O')\n",
        "mol"
      ],
      "metadata": {
        "colab": {
          "base_uri": "https://localhost:8080/",
          "height": 167
        },
        "id": "8iGDaig93bKE",
        "outputId": "d5852339-6257-4eb2-9cb1-8a326b1656eb"
      },
      "execution_count": null,
      "outputs": [
        {
          "output_type": "execute_result",
          "data": {
            "text/plain": [
              "<rdkit.Chem.rdchem.Mol at 0x7873180d9540>"
            ],
            "image/png": "[encoded data removed]"
          },
          "metadata": {},
          "execution_count": 28
        }
      ]
    },
    {
      "cell_type": "code",
      "execution_count": null,
      "metadata": {
        "colab": {
          "base_uri": "https://localhost:8080/"
        },
        "id": "-1ycjK0t0eGX",
        "outputId": "48da03f1-6942-41bb-8f35-62dd5f742f42"
      },
      "outputs": [
        {
          "output_type": "execute_result",
          "data": {
            "text/plain": [
              "True"
            ]
          },
          "metadata": {},
          "execution_count": 29
        }
      ],
      "source": [
        "#Função .HasSubstructMatch()\n",
        "#Retorna em booleano se existe uma determinada subsestrutura na molécula\n",
        "\n",
        "subest1 = Chem.MolFromSmarts('ccO')\n",
        "mol.HasSubstructMatch(subest1)"
      ]
    },
    {
      "cell_type": "code",
      "source": [
        "subest2 = Chem.MolFromSmarts('ccN')\n",
        "mol.HasSubstructMatch(subest2)"
      ],
      "metadata": {
        "colab": {
          "base_uri": "https://localhost:8080/"
        },
        "id": "lc-08Cb04MtV",
        "outputId": "c95e3933-e7cc-48d0-e115-d27cabdc776e"
      },
      "execution_count": null,
      "outputs": [
        {
          "output_type": "execute_result",
          "data": {
            "text/plain": [
              "False"
            ]
          },
          "metadata": {},
          "execution_count": 30
        }
      ]
    },
    {
      "cell_type": "code",
      "source": [
        "#Função .GetSubstructMatch()\n",
        "#Retorna os índices dos átomos que compõem uma subsestrutura\n",
        "\n",
        "mol.GetSubstructMatch(subest1)"
      ],
      "metadata": {
        "colab": {
          "base_uri": "https://localhost:8080/"
        },
        "id": "TYHOSy373tE2",
        "outputId": "acdb92b6-8436-4b04-cf8b-80db6556707a"
      },
      "execution_count": null,
      "outputs": [
        {
          "output_type": "execute_result",
          "data": {
            "text/plain": [
              "(0, 5, 6)"
            ]
          },
          "metadata": {},
          "execution_count": 31
        }
      ]
    },
    {
      "cell_type": "code",
      "source": [
        "#Função .GetSubstructMatches()\n",
        "#Retorna os índices dos átomos de todas as possíveis subsestruturas correspondentes\n",
        "\n",
        "mol.GetSubstructMatches(subest1)"
      ],
      "metadata": {
        "colab": {
          "base_uri": "https://localhost:8080/"
        },
        "id": "1wyhk6qd4bC5",
        "outputId": "bf71566c-d465-413f-9520-37f95d916628"
      },
      "execution_count": null,
      "outputs": [
        {
          "output_type": "execute_result",
          "data": {
            "text/plain": [
              "((0, 5, 6), (4, 5, 6))"
            ]
          },
          "metadata": {},
          "execution_count": 32
        }
      ]
    },
    {
      "cell_type": "code",
      "source": [
        "molR = Chem.MolFromSmiles('CC[C@H](F)Cl')\n",
        "molR"
      ],
      "metadata": {
        "colab": {
          "base_uri": "https://localhost:8080/",
          "height": 167
        },
        "id": "cgdmOS5j5Ium",
        "outputId": "895fc6b9-a5b0-4231-8c4c-22e4cbd7490b"
      },
      "execution_count": null,
      "outputs": [
        {
          "output_type": "execute_result",
          "data": {
            "text/plain": [
              "<rdkit.Chem.rdchem.Mol at 0x7873180d9d90>"
            ],
            "image/png": "[encoded data removed]"
          },
          "metadata": {},
          "execution_count": 33
        }
      ]
    },
    {
      "cell_type": "code",
      "source": [
        "molL = Chem.MolFromSmiles('CC[C@@H](F)Cl')\n",
        "molL"
      ],
      "metadata": {
        "colab": {
          "base_uri": "https://localhost:8080/",
          "height": 167
        },
        "id": "fssZq_eZ5NbR",
        "outputId": "8c2d1778-12c0-4eba-8cac-3fa7b810f6ca"
      },
      "execution_count": null,
      "outputs": [
        {
          "output_type": "execute_result",
          "data": {
            "text/plain": [
              "<rdkit.Chem.rdchem.Mol at 0x7873180d9d20>"
            ],
            "image/png": "[encoded data removed]"
          },
          "metadata": {},
          "execution_count": 34
        }
      ]
    },
    {
      "cell_type": "code",
      "source": [
        "#Argumento useChirality=True\n",
        "#Considera a quiralidade das moléculas na busca por subestruturas\n",
        "\n",
        "molR.HasSubstructMatch(Chem.MolFromSmiles('C[C@H](F)Cl'),useChirality=True)"
      ],
      "metadata": {
        "colab": {
          "base_uri": "https://localhost:8080/"
        },
        "id": "kn5isdCt4uik",
        "outputId": "10bd4a38-c913-4ad0-c68f-efa8e89806e8"
      },
      "execution_count": null,
      "outputs": [
        {
          "output_type": "execute_result",
          "data": {
            "text/plain": [
              "True"
            ]
          },
          "metadata": {},
          "execution_count": 35
        }
      ]
    },
    {
      "cell_type": "code",
      "source": [
        "molR.HasSubstructMatch(Chem.MolFromSmiles('C[C@@H](F)Cl'),useChirality=True)"
      ],
      "metadata": {
        "colab": {
          "base_uri": "https://localhost:8080/"
        },
        "id": "eABquLso5Yjb",
        "outputId": "46b23cb2-ed0e-49bd-ad4a-2a23a4a000c4"
      },
      "execution_count": null,
      "outputs": [
        {
          "output_type": "execute_result",
          "data": {
            "text/plain": [
              "False"
            ]
          },
          "metadata": {},
          "execution_count": 36
        }
      ]
    },
    {
      "cell_type": "code",
      "source": [
        "molR.HasSubstructMatch(Chem.MolFromSmiles('C[C@H](F)Cl'))"
      ],
      "metadata": {
        "colab": {
          "base_uri": "https://localhost:8080/"
        },
        "id": "RSBAzgda5b9r",
        "outputId": "682c8624-ce25-4752-9603-eeec535280bb"
      },
      "execution_count": null,
      "outputs": [
        {
          "output_type": "execute_result",
          "data": {
            "text/plain": [
              "True"
            ]
          },
          "metadata": {},
          "execution_count": 37
        }
      ]
    },
    {
      "cell_type": "code",
      "source": [
        "molR.HasSubstructMatch(Chem.MolFromSmiles('C[C@@H](F)Cl'))"
      ],
      "metadata": {
        "colab": {
          "base_uri": "https://localhost:8080/"
        },
        "id": "LIK_qF1m5hKu",
        "outputId": "f820bbb6-fdf5-4e5b-fba5-43d5055e9a11"
      },
      "execution_count": null,
      "outputs": [
        {
          "output_type": "execute_result",
          "data": {
            "text/plain": [
              "True"
            ]
          },
          "metadata": {},
          "execution_count": 38
        }
      ]
    },
    {
      "cell_type": "markdown",
      "source": [
        "Para saber mais sobre SMARTS: https://www.daylight.com/dayhtml/doc/theory/theory.smarts.html"
      ],
      "metadata": {
        "id": "ICIDx1eEaog0"
      }
    }
  ]
}