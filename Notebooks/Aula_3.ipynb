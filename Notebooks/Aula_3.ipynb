{
  "nbformat": 4,
  "nbformat_minor": 0,
  "metadata": {
    "colab": {
      "provenance": []
    },
    "kernelspec": {
      "name": "python3",
      "display_name": "Python 3"
    },
    "language_info": {
      "name": "python"
    }
  },
  "cells": [
    {
      "cell_type": "code",
      "source": [
        "# Install RDKit.\n",
        "%%capture\n",
        "!pip install rdkit"
      ],
      "metadata": {
        "id": "XYKbcDL3b-ul"
      },
      "execution_count": null,
      "outputs": []
    },
    {
      "cell_type": "markdown",
      "source": [
        "#Aula 03: Representação de Moléculas 2D\n",
        "Aqui aprenderemos como visualizar nossa molécula em 2D e 3D."
      ],
      "metadata": {
        "id": "V7b6JDelZ2Xy"
      }
    },
    {
      "cell_type": "code",
      "source": [
        "from rdkit import Chem\n",
        "from rdkit.Chem import Draw\n",
        "\n",
        "# Defina uma molécula a partir de um SMILES\n",
        "mol = Chem.MolFromSmiles('CCO')  # Etanol\n",
        "\n",
        "# Gere uma representação 2D da molécula\n",
        "img = Draw.MolToImage(mol)\n",
        "\n",
        "# Salvando a imagem em um arquivo\n",
        "img.save('mol2d.png')\n",
        "\n",
        "img"
      ],
      "metadata": {
        "id": "bs2PD3VobSAO",
        "colab": {
          "base_uri": "https://localhost:8080/",
          "height": 317
        },
        "outputId": "816c18ca-8d3d-44ad-e3ea-0cc42ce2a610"
      },
      "execution_count": null,
      "outputs": [
        {
          "output_type": "execute_result",
          "data": {
            "text/plain": [
              "<PIL.PngImagePlugin.PngImageFile image mode=RGB size=300x300>"
            ],
            "image/png": "[encoded data removed]"
          },
          "metadata": {},
          "execution_count": 18
        }
      ]
    },
    {
      "cell_type": "markdown",
      "source": [
        "##Computando coordenadas 2D de uma molécula"
      ],
      "metadata": {
        "id": "OgpYb8N4aqL4"
      }
    },
    {
      "cell_type": "code",
      "source": [
        "from rdkit.Chem import AllChem\n",
        "\n",
        "# Criando uma molécula a partir de um SMILES\n",
        "mol = Chem.MolFromSmiles('C1=CC=C(C=C1)O')\n",
        "\n",
        "# Gerando as coordenadas 2D\n",
        "AllChem.Compute2DCoords(mol) #armazenamos a informação da coordenada na molécula\n",
        "\n",
        "# Acessando as coordenadas 2D\n",
        "coords = mol.GetConformer().GetPositions()\n",
        "\n",
        "# Exibindo as coordenadas 2D\n",
        "for i in range(mol.GetNumAtoms()):\n",
        "    atom = mol.GetAtomWithIdx(i)\n",
        "    print(f'Atom {atom.GetSymbol()}: x={coords[i][0]}, y={coords[i][1]}')"
      ],
      "metadata": {
        "id": "TT2gXA6ybWP2",
        "colab": {
          "base_uri": "https://localhost:8080/"
        },
        "outputId": "5ebb2ec7-6716-408e-cbdb-ebd64f934180"
      },
      "execution_count": null,
      "outputs": [
        {
          "output_type": "stream",
          "name": "stdout",
          "text": [
            "Atom C: x=1.9285714285714288, y=0.0\n",
            "Atom C: x=1.178571428571428, y=-1.2990381056766587\n",
            "Atom C: x=-0.32142857142857206, y=-1.2990381056766578\n",
            "Atom C: x=-1.0714285714285716, y=1.8369701987210302e-16\n",
            "Atom C: x=-0.32142857142857106, y=1.2990381056766582\n",
            "Atom C: x=1.178571428571429, y=1.299038105676658\n",
            "Atom O: x=-2.571428571428571, y=2.220446049250313e-16\n"
          ]
        }
      ]
    },
    {
      "cell_type": "markdown",
      "source": [
        "##Identificação de estruturas em comum entre moléculas utilizando coordenadas 2D"
      ],
      "metadata": {
        "id": "tY3-l5yjbZLO"
      }
    },
    {
      "cell_type": "code",
      "source": [
        "from rdkit import Chem\n",
        "from rdkit.Chem import AllChem\n",
        "from rdkit.Chem import Draw\n",
        "\n",
        "# Defina o template e calcule suas coordenadas 2D\n",
        "template = Chem.MolFromSmiles('CCO')\n",
        "AllChem.Compute2DCoords(template)\n",
        "\n",
        "# Crie moléculas a partir dos SMILES\n",
        "smiles_list = ['CCO', 'CCCO', 'CCOO']\n",
        "ms = [Chem.MolFromSmiles(smi) for smi in smiles_list]\n",
        "\n",
        "# Gere as coordenadas 2D correspondentes às do template\n",
        "for m in ms:\n",
        "    AllChem.GenerateDepictionMatching2DStructure(m, template)\n",
        "\n",
        "# Imprima as moléculas\n",
        "img = Draw.MolsToGridImage(ms, molsPerRow=len(smiles_list))\n",
        "img\n"
      ],
      "metadata": {
        "id": "FsegmWDwbcZ-",
        "colab": {
          "base_uri": "https://localhost:8080/",
          "height": 217
        },
        "outputId": "35b12043-1485-41af-af01-1ca8acd1099e"
      },
      "execution_count": null,
      "outputs": [
        {
          "output_type": "execute_result",
          "data": {
            "image/png": "[encoded data removed]",
            "text/plain": [
              "<IPython.core.display.Image object>"
            ]
          },
          "metadata": {},
          "execution_count": 30
        }
      ]
    },
    {
      "cell_type": "code",
      "source": [
        "\n",
        "# Defina uma molécula a partir de um SMILES\n",
        "mol = Chem.MolFromSmiles('CCOO')\n",
        "img = Draw.MolToImage(mol)\n",
        "\n",
        "img"
      ],
      "metadata": {
        "colab": {
          "base_uri": "https://localhost:8080/",
          "height": 317
        },
        "id": "Npyum_5DVV6i",
        "outputId": "5084dbac-0b9c-4f3e-bf64-6db387a2f647"
      },
      "execution_count": null,
      "outputs": [
        {
          "output_type": "execute_result",
          "data": {
            "text/plain": [
              "<PIL.PngImagePlugin.PngImageFile image mode=RGB size=300x300>"
            ],
            "image/png": "[encoded data removed]"
          },
          "metadata": {},
          "execution_count": 31
        }
      ]
    },
    {
      "cell_type": "markdown",
      "source": [
        "##Criando representações em 3D:"
      ],
      "metadata": {
        "id": "WPqCh8BxbfId"
      }
    },
    {
      "cell_type": "code",
      "source": [
        "from rdkit import Chem\n",
        "from rdkit.Chem import AllChem\n",
        "\n",
        "# Crie uma molécula a partir do SMILES\n",
        "mol = Chem.MolFromSmiles('CCO')\n",
        "\n",
        "# Gere as coordenadas 3D otimizadas\n",
        "mol = Chem.AddHs(mol)  # Adicione hidrogênios\n",
        "AllChem.EmbedMolecule(mol, randomSeed=42)  # Gere coordenadas 3D\n",
        "AllChem.MMFFOptimizeMolecule(mol)  # Otimize as coordenadas 3D\n",
        "\n",
        "# Salve a molécula em um formato que suporta coordenadas 3D, como SDF\n",
        "Chem.MolToMolFile(mol, 'mol_com_coordenadas_3d.sdf')"
      ],
      "metadata": {
        "id": "fVLFvaxEbgWt"
      },
      "execution_count": null,
      "outputs": []
    },
    {
      "cell_type": "markdown",
      "source": [
        "##Referências da Aula\n",
        "\n",
        "###Programa para visualizar moléculas em 3D\n",
        "https://avogadro.cc/\n",
        "\n",
        "https://pymol.org/"
      ],
      "metadata": {
        "id": "QeLnyv07nl3Q"
      }
    }
  ]
}