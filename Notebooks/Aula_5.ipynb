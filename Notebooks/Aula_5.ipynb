{
  "nbformat": 4,
  "nbformat_minor": 0,
  "metadata": {
    "colab": {
      "provenance": []
    },
    "kernelspec": {
      "name": "python3",
      "display_name": "Python 3"
    },
    "language_info": {
      "name": "python"
    }
  },
  "cells": [
    {
      "cell_type": "code",
      "source": [
        "%%capture\n",
        "!pip install rdkit"
      ],
      "metadata": {
        "id": "ax7zSzIcRyIF"
      },
      "execution_count": null,
      "outputs": []
    },
    {
      "cell_type": "code",
      "source": [
        "from rdkit import Chem"
      ],
      "metadata": {
        "id": "OMKd_K0xSSb8"
      },
      "execution_count": null,
      "outputs": []
    },
    {
      "cell_type": "markdown",
      "source": [
        "Fala galera!\n",
        "\n",
        "Meu nome é Victória e sejam bem-vindos ao canal do Youtube da for_code! Nós somos a liga de computação da Escola de Química da UFRJ e esse vídeo faz parte de uma Playlist sobre a biblioteca RDKit, de química orgânica.\n",
        "\n",
        "Quem é da química sabe que a pior parte de orgânica são os desenhos, né? Então, na aula de hoje vamos falar sobre como desenhar moléculas utilizando essa biblioteca! Quer facilitar sua vida? Então continua assistindo o vídeo!\n",
        "\n",
        "Para desenhar as moléculas, nós utilizamos o *módulo* **Draw**. Então, o primeiro passo, é importar esse módulo para o nosso código\n",
        "\n",
        "\n"
      ],
      "metadata": {
        "id": "vI9dss5uD0Ky"
      }
    },
    {
      "cell_type": "code",
      "source": [
        "from rdkit.Chem import Draw"
      ],
      "metadata": {
        "id": "8EUCSfBVE7X_"
      },
      "execution_count": null,
      "outputs": []
    },
    {
      "cell_type": "code",
      "source": [
        "smi = 'c1cc(F)ccc1Cl'\n",
        "mol = Chem.MolFromSmiles(smi)\n",
        "patt = Chem.MolFromSmarts('ClccccF')\n",
        "hit_ats = list(mol.GetSubstructMatch(patt))\n",
        "hit_bonds = []\n",
        "for bond in patt.GetBonds():\n",
        "   aid1 = hit_ats[bond.GetBeginAtomIdx()]\n",
        "   aid2 = hit_ats[bond.GetEndAtomIdx()]\n",
        "   hit_bonds.append(mol.GetBondBetweenAtoms(aid1,aid2).GetIdx())\n",
        "\n",
        "#Use o método MolToImage para gerar a imagem\n",
        "\n",
        "img = Draw.MolToImage(mol, size=(300,300), wedgeBonds=True, kekulize=True, wedgeInChiralBonds= True, wedgeStereoBonds=True, highlightsAtoms=hit_ats, highlightsBonds=hit_bonds)\n",
        "\n",
        "img"
      ],
      "metadata": {
        "id": "y6uc4GAFQ1oP",
        "colab": {
          "base_uri": "https://localhost:8080/",
          "height": 317
        },
        "outputId": "9b462c9b-04b2-43e8-8eb9-516d46a627b7"
      },
      "execution_count": null,
      "outputs": [
        {
          "output_type": "execute_result",
          "data": {
            "text/plain": [
              "<PIL.PngImagePlugin.PngImageFile image mode=RGB size=300x300>"
            ],
            "image/png": "[encoded data removed]"
          },
          "metadata": {},
          "execution_count": 8
        }
      ]
    },
    {
      "cell_type": "markdown",
      "source": [
        "Os átomos de uma molécula podem ser destacados desenhando um sólido colorido ou um círculo aberto ao redor deles. As ligações também podem ter um contorno colorido aplicado."
      ],
      "metadata": {
        "id": "ceGl3ZAtQcE5"
      }
    },
    {
      "cell_type": "code",
      "source": [
        "colours = [(0.8,0.0,0.8),(0.8,0.8,0),(0,0.8,0.8),(0,0,0.8)]\n",
        "atom_cols = {}\n",
        "for i, at in enumerate(hit_ats):\n",
        "    atom_cols[at] = colours[i%4]\n",
        "bond_cols = {}\n",
        "for i, bd in enumerate(hit_bonds):\n",
        "    bond_cols[bd] = colours[3 - i%4]\n",
        "img = Draw.MolToImage(mol, size=(300,300), highlightAtoms=hit_ats,\n",
        "                                   highlightAtomColors=atom_cols,\n",
        "                                   highlightBonds=hit_bonds,\n",
        "                                   highlightBondColors=bond_cols)\n",
        "img"
      ],
      "metadata": {
        "id": "VFWsP6tLRmAW",
        "colab": {
          "base_uri": "https://localhost:8080/",
          "height": 317
        },
        "outputId": "86835a36-9ffd-4a03-bde3-a87805e5febb"
      },
      "execution_count": null,
      "outputs": [
        {
          "output_type": "execute_result",
          "data": {
            "text/plain": [
              "<PIL.PngImagePlugin.PngImageFile image mode=RGB size=300x300>"
            ],
            "image/png": "[encoded data removed]"
          },
          "metadata": {},
          "execution_count": 9
        }
      ]
    },
    {
      "cell_type": "markdown",
      "source": [
        "Também é possível especificar as cores dos átomos e das ligações. Os Átomos e ligações também podem ser destacados com múltiplas cores, por exemplo, se corresponderem a mais de um padrão de subestrutura."
      ],
      "metadata": {
        "id": "P5_AOpPtQc2o"
      }
    },
    {
      "cell_type": "markdown",
      "source": [
        "Outro recurso interesse que temos com essa biblioteca é a possibilidade de gerar e armazenar coordenadas da molécula usando a *funcionalidade* do **rdkit.Chem.AllChem**. Ou seja,nós podemos inserir uma representação 2D.\n",
        "\n",
        "O primeiro passo, como sempre, é importar esse módulo para o nosso código"
      ],
      "metadata": {
        "id": "fpNdVL5VHVJO"
      }
    },
    {
      "cell_type": "code",
      "source": [
        "from rdkit.Chem import AllChem\n",
        "#AllChem.Compute2DCoords(m2)"
      ],
      "metadata": {
        "id": "s40o-uU4JVcn"
      },
      "execution_count": null,
      "outputs": []
    },
    {
      "cell_type": "markdown",
      "source": [
        "Nós também podemos utilizar a *função* **Draw.MolToFile(molécula, ‘nomedoarquivo.png’)**. Basicamente, essa função vai gerar o desenho da molécula e transformar em um arquivo.\n"
      ],
      "metadata": {
        "id": "M7UmMn-aFPcs"
      }
    },
    {
      "cell_type": "markdown",
      "source": [
        "Nós também anotar informações nos átomos e ligações no desenho. Essas strings são adicionadas com propriedades **atomNote e bondNote** e serão colocadas automaticamente próximas ao átomo ou ligação de forma a minimizar o conflito com o desenho. Nós temos três sinalizadores em **MolDraw2DOptions** que adicionarão informações estereoquímicas (R/S para átomos, E/Z para ligações) e números de sequência de átomos e ligações."
      ],
      "metadata": {
        "id": "fDwyJImkUoua"
      }
    },
    {
      "cell_type": "code",
      "source": [
        "from rdkit.Chem.Draw import rdMolDraw2D\n"
      ],
      "metadata": {
        "id": "c4bWfEbgxbMm"
      },
      "execution_count": null,
      "outputs": []
    },
    {
      "cell_type": "code",
      "source": [
        "mol = Chem.MolFromSmiles('Cl[C@H](F)NC\\C=C\\C')\n",
        "d = rdMolDraw2D.MolDraw2DCairo(250, 200) # or MolDraw2DSVG to get SVGs\n",
        "mol.GetAtomWithIdx(2).SetProp('atomNote', 'foo')\n",
        "mol.GetBondWithIdx(0).SetProp('bondNote', 'bar')\n",
        "d.drawOptions().addStereoAnnotation = True\n",
        "d.drawOptions().addAtomIndices = True\n",
        "d.DrawMolecule(mol)\n",
        "d.FinishDrawing()\n",
        "d.WriteDrawingText('atom_annotation_1.png')\n",
        "\n",
        "img = Draw.MolToImage(mol, size=(300,300), wedgeBonds=True, kekulize=True, wedgeInChiralBonds= True, wedgeStereoBonds=True, highlightsAtoms=hit_ats, highlightsBonds=hit_bonds)\n",
        "img"
      ],
      "metadata": {
        "id": "dz62tmeoVKC5",
        "colab": {
          "base_uri": "https://localhost:8080/",
          "height": 317
        },
        "outputId": "d151c46f-eadf-416f-a490-12314feaaae2"
      },
      "execution_count": null,
      "outputs": [
        {
          "output_type": "execute_result",
          "data": {
            "text/plain": [
              "<PIL.PngImagePlugin.PngImageFile image mode=RGB size=300x300>"
            ],
            "image/png": "[encoded data removed]"
          },
          "metadata": {},
          "execution_count": 16
        }
      ]
    },
    {
      "cell_type": "markdown",
      "source": [
        "Se os átomos tiverem uma propriedade atomLabel definida, nós usamos:"
      ],
      "metadata": {
        "id": "ZfKH2bMOV1fX"
      }
    },
    {
      "cell_type": "code",
      "source": [
        "smi = 'c1nc(*)ccc1* |$;;;R1;;;;R2$|'\n",
        "mol = Chem.MolFromSmiles(smi)\n",
        "mol.GetAtomWithIdx(3).GetProp(\"atomLabel\")\n",
        "'R1'\n",
        "mol.GetAtomWithIdx(7).GetProp(\"atomLabel\")\n",
        "'R2'\n",
        "d = rdMolDraw2D.MolDraw2DCairo(250, 250)\n",
        "rdMolDraw2D.PrepareAndDrawMolecule(d,mol)\n",
        "d.WriteDrawingText(\"./images/atom_labels_1.png\")\n",
        "\n",
        "img = Draw.MolToImage(mol, size=(300,300),\n",
        "                      wedgeBonds=True,\n",
        "                      kekulize=True,\n",
        "                      wedgeInChiralBonds= True,\n",
        "                      wedgeStereoBonds=True,\n",
        "                      highlightsAtoms=hit_ats,\n",
        "                      highlightsBonds=hit_bonds)\n",
        "img"
      ],
      "metadata": {
        "id": "U9Ld-WaFV6dP",
        "colab": {
          "base_uri": "https://localhost:8080/",
          "height": 334
        },
        "outputId": "88fa6b25-c581-4522-beb5-d878d73c128a"
      },
      "execution_count": null,
      "outputs": [
        {
          "output_type": "stream",
          "name": "stderr",
          "text": [
            "[19:23:22] Failed to write PNG file ./images/atom_labels_1.png\n"
          ]
        },
        {
          "output_type": "execute_result",
          "data": {
            "text/plain": [
              "<PIL.PngImagePlugin.PngImageFile image mode=RGB size=300x300>"
            ],
            "image/png": "[encoded data removed]"
          },
          "metadata": {},
          "execution_count": 17
        }
      ]
    },
    {
      "cell_type": "markdown",
      "source": [
        "Se você quiser fornecer o seu próprio rótulo para os átomos, você pode usar a propriedade **_displayLabel**"
      ],
      "metadata": {
        "id": "0fm4l-d1WPxd"
      }
    },
    {
      "cell_type": "code",
      "source": [
        "smi = 'c1nc(*)ccc1* |$;;;R1;;;;R2$|'\n",
        "mol = Chem.MolFromSmiles(smi)\n",
        "mol.GetAtomWithIdx(3).SetProp(\"_displayLabel\",\"R<sub>1</sub>\")\n",
        "mol.GetAtomWithIdx(7).SetProp(\"_displayLabel\",\"R<sub>2</sub>\")\n",
        "d = rdMolDraw2D.MolDraw2DCairo(250, 250)\n",
        "rdMolDraw2D.PrepareAndDrawMolecule(d,mol)\n",
        "d.WriteDrawingText(\"./images/atom_labels_2.png\")\n",
        "\n",
        "img = Draw.MolToImage(mol, size=(300,300),\n",
        "                      wedgeBonds=True,\n",
        "                      kekulize=True,\n",
        "                      wedgeInChiralBonds= True,\n",
        "                      wedgeStereoBonds=True,\n",
        "                      highlightsAtoms=hit_ats,\n",
        "                      highlightsBonds=hit_bonds)\n",
        "img"
      ],
      "metadata": {
        "id": "ZOCfhtIEWQNt",
        "colab": {
          "base_uri": "https://localhost:8080/",
          "height": 334
        },
        "outputId": "4ca92f11-19f6-45f0-9f9f-476763e084ed"
      },
      "execution_count": null,
      "outputs": [
        {
          "output_type": "stream",
          "name": "stderr",
          "text": [
            "[22:02:27] Failed to write PNG file ./images/atom_labels_2.png\n"
          ]
        },
        {
          "output_type": "execute_result",
          "data": {
            "text/plain": [
              "<PIL.PngImagePlugin.PngImageFile image mode=RGB size=300x300>"
            ],
            "image/png": "[encoded data removed]"
          },
          "metadata": {},
          "execution_count": 23
        }
      ]
    },
    {
      "cell_type": "markdown",
      "source": [
        "Os arquivos PNG gerados pela classe MolDraw2DCairo por padrão incluem metadados sobre a(s) molécula(s) ou reação química incluída no desenho. Esses metadados podem ser usados posteriormente para reconstruir a(s) molécula(s) ou reação."
      ],
      "metadata": {
        "id": "PEUXcjG4XtAx"
      }
    },
    {
      "cell_type": "code",
      "source": [
        "template = Chem.MolFromSmiles('c1nccc2n1ccc2')\n",
        "AllChem.Compute2DCoords(template)\n",
        "0\n",
        "ms = [Chem.MolFromSmiles(smi) for smi in ('OCCc1ccn2cnccc12','C1CC1Oc1cc2ccncn2c1','CNC(=O)c1nccc2cccn12')]\n",
        "_ = [AllChem.GenerateDepictionMatching2DStructure(m,template) for m in ms]\n",
        "d = rdMolDraw2D.MolDraw2DCairo(250, 200)\n",
        "d.DrawMolecule(ms[0])\n",
        "d.FinishDrawing()\n",
        "png = d.GetDrawingText()\n",
        "mol = Chem.MolFromPNGString(png)\n",
        "Chem.MolToSmiles(mol)\n",
        "'OCCc1c2ccncn2cc1'\n",
        "\n",
        "img = Draw.MolToImage(mol, size=(300,300),\n",
        "                      wedgeBonds=True,\n",
        "                      kekulize=True,\n",
        "                      wedgeInChiralBonds= True,\n",
        "                      wedgeStereoBonds=True,\n",
        "                      highlightsAtoms=hit_ats,\n",
        "                      highlightsBonds=hit_bonds)\n",
        "img"
      ],
      "metadata": {
        "colab": {
          "base_uri": "https://localhost:8080/",
          "height": 317
        },
        "id": "BN0SLXbGXtrJ",
        "outputId": "31564c48-5114-45d3-bc4a-9dde77680ac1"
      },
      "execution_count": null,
      "outputs": [
        {
          "output_type": "execute_result",
          "data": {
            "text/plain": [
              "<PIL.PngImagePlugin.PngImageFile image mode=RGB size=300x300>"
            ],
            "image/png": "[encoded data removed]"
          },
          "metadata": {},
          "execution_count": 24
        }
      ]
    }
  ]
}