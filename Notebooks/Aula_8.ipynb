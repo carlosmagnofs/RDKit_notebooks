{
  "nbformat": 4,
  "nbformat_minor": 0,
  "metadata": {
    "colab": {
      "provenance": []
    },
    "kernelspec": {
      "name": "python3",
      "display_name": "Python 3"
    },
    "language_info": {
      "name": "python"
    }
  },
  "cells": [
    {
      "cell_type": "markdown",
      "source": [
        "# Aula 08: Reações Químicas\n",
        "\n"
      ],
      "metadata": {
        "id": "s74cgL9qa5rh"
      }
    },
    {
      "cell_type": "markdown",
      "source": [
        "No módulo de hoje aprenderemos como retratar reações químicas no RDKit\n"
      ],
      "metadata": {
        "id": "bPcCBL89epzT"
      }
    },
    {
      "cell_type": "code",
      "source": [
        "%%capture\n",
        "!pip install rdkit"
      ],
      "metadata": {
        "id": "XYKbcDL3b-ul"
      },
      "execution_count": null,
      "outputs": []
    },
    {
      "cell_type": "code",
      "source": [
        "# Importação dos Módulos\n",
        "from rdkit import Chem\n",
        "from rdkit.Chem import AllChem\n",
        "from rdkit.Chem import Draw"
      ],
      "metadata": {
        "id": "sRFObXgvmcaO"
      },
      "execution_count": null,
      "outputs": []
    },
    {
      "cell_type": "markdown",
      "source": [
        "Algumas anotações de SMARTS\n",
        "\n",
        "* Átomos específicos: O SMARTS [#6] representa qualquer átomo de carbono (C).\n",
        "\n",
        "* Grupos funcionais: O SMARTS [OH] representa qualquer grupo hidroxila (OH).\n",
        "\n",
        "* Ligações: O SMARTS C=O representa uma ligação dupla entre carbono (C) e oxigênio (O).\n",
        "\n",
        "* Repetições: O SMARTS C1CCCCC1 representa um anel hexagonal de átomos de carbono.\n",
        "\n",
        "* Rótulos: O SMARTS C1:C:C:C:C:C:1 representa um anel hexagonal onde o átomo de carbono 1 está ligado a todos os outros.\n",
        "\n",
        "Elas serão utilizadas para representar as reações para que o sistema entenda quais átomos deverá manipular."
      ],
      "metadata": {
        "id": "MuOVEfcQjKBS"
      }
    },
    {
      "cell_type": "markdown",
      "source": [
        "A reação que faremos de exemplo será de adição, como mostra a figura abaixo.\n",
        "\n",
        "![reacoes-org-adicao.webp](data:image/webp;base64,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)"
      ],
      "metadata": {
        "id": "jXMNFLvC0DD1"
      }
    },
    {
      "cell_type": "code",
      "source": [
        "#Escreva suas Moléculas em SMILES e visualize elas\n",
        "subs1 = Chem.MolFromSmiles('CC=C')\n",
        "subs2 = Chem.MolFromSmiles('[H+].[Br-]')\n",
        "\n",
        "substancias = [subs1, subs2]\n",
        "Draw.MolsToGridImage(substancias)"
      ],
      "metadata": {
        "id": "k7uWj5BIY19k",
        "colab": {
          "base_uri": "https://localhost:8080/",
          "height": 235
        },
        "outputId": "e673435a-2077-4e9d-935e-50420cc8b8a4"
      },
      "execution_count": null,
      "outputs": [
        {
          "output_type": "stream",
          "name": "stderr",
          "text": [
            "[19:55:47] WARNING: not removing hydrogen atom without neighbors\n"
          ]
        },
        {
          "output_type": "execute_result",
          "data": {
            "image/png": "[encoded data removed]",
            "text/plain": [
              "<IPython.core.display.Image object>"
            ]
          },
          "metadata": {},
          "execution_count": 3
        }
      ]
    },
    {
      "cell_type": "code",
      "source": [
        "#Utilizando SMARTS defina a reação\n",
        "reacao1 = AllChem.ReactionFromSmarts('[#6:2]=[#6:3]>>[#6:2][Br:2]')"
      ],
      "metadata": {
        "id": "nT5lm-ufyS-J"
      },
      "execution_count": null,
      "outputs": []
    },
    {
      "cell_type": "markdown",
      "source": [
        "Onde:\n",
        "\n",
        "[#6:2] : representa um carbono qualquer na segunda posição\n",
        "\n",
        "Resultando em uma ligação do Br na segunda posição"
      ],
      "metadata": {
        "id": "xXUYqWlA1__i"
      }
    },
    {
      "cell_type": "code",
      "source": [
        "#Rodamos nossa reação e vemos o resultado\n",
        "reacao1.RunReactants((subs1, ))[0][0] #ele trata a reação como uma tupla"
      ],
      "metadata": {
        "id": "DWpdgx-t3BAw",
        "colab": {
          "base_uri": "https://localhost:8080/",
          "height": 167
        },
        "outputId": "67bd8ae1-93ad-4db4-c6db-4010f68fd59b"
      },
      "execution_count": null,
      "outputs": [
        {
          "output_type": "execute_result",
          "data": {
            "text/plain": [
              "<rdkit.Chem.rdchem.Mol at 0x7d4d8770a030>"
            ],
            "image/png": "[encoded data removed]"
          },
          "metadata": {},
          "execution_count": 8
        }
      ]
    },
    {
      "cell_type": "code",
      "source": [
        "#Sanitizer\n",
        "resultado = reacao1.RunReactants((subs1, ))[0][0]\n",
        "Chem.SanitizeMol(resultado)"
      ],
      "metadata": {
        "id": "oOwuKFRR4EpX",
        "colab": {
          "base_uri": "https://localhost:8080/",
          "height": 237
        },
        "outputId": "fb9639b8-96ed-44c4-9ba4-8a87997174ed"
      },
      "execution_count": null,
      "outputs": [
        {
          "output_type": "stream",
          "name": "stderr",
          "text": [
            "[20:05:53] Explicit valence for atom # 1 Br, 2, is greater than permitted\n"
          ]
        },
        {
          "output_type": "error",
          "ename": "AtomValenceException",
          "evalue": "ignored",
          "traceback": [
            "\u001b[0;31m---------------------------------------------------------------------------\u001b[0m",
            "\u001b[0;31mAtomValenceException\u001b[0m                      Traceback (most recent call last)",
            "\u001b[0;32m<ipython-input-9-9ba410709acd>\u001b[0m in \u001b[0;36m<cell line: 3>\u001b[0;34m()\u001b[0m\n\u001b[1;32m      1\u001b[0m \u001b[0;31m#Sanitizer\u001b[0m\u001b[0;34m\u001b[0m\u001b[0;34m\u001b[0m\u001b[0m\n\u001b[1;32m      2\u001b[0m \u001b[0mresultado\u001b[0m \u001b[0;34m=\u001b[0m \u001b[0mreacao1\u001b[0m\u001b[0;34m.\u001b[0m\u001b[0mRunReactants\u001b[0m\u001b[0;34m(\u001b[0m\u001b[0;34m(\u001b[0m\u001b[0msubs1\u001b[0m\u001b[0;34m,\u001b[0m \u001b[0;34m)\u001b[0m\u001b[0;34m)\u001b[0m\u001b[0;34m[\u001b[0m\u001b[0;36m0\u001b[0m\u001b[0;34m]\u001b[0m\u001b[0;34m[\u001b[0m\u001b[0;36m0\u001b[0m\u001b[0;34m]\u001b[0m\u001b[0;34m\u001b[0m\u001b[0;34m\u001b[0m\u001b[0m\n\u001b[0;32m----> 3\u001b[0;31m \u001b[0mChem\u001b[0m\u001b[0;34m.\u001b[0m\u001b[0mSanitizeMol\u001b[0m\u001b[0;34m(\u001b[0m\u001b[0mresultado\u001b[0m\u001b[0;34m)\u001b[0m\u001b[0;34m\u001b[0m\u001b[0;34m\u001b[0m\u001b[0m\n\u001b[0m",
            "\u001b[0;31mAtomValenceException\u001b[0m: Explicit valence for atom # 1 Br, 2, is greater than permitted"
          ]
        }
      ]
    },
    {
      "cell_type": "code",
      "source": [
        "#Especificando mais a reação\n",
        "reacao1 = AllChem.ReactionFromSmarts('[#6:2]=[#6:3]>>[#6:3][#6:2][Br:1]')"
      ],
      "metadata": {
        "id": "gFc5XXEw4IqP"
      },
      "execution_count": null,
      "outputs": []
    },
    {
      "cell_type": "code",
      "source": [
        "#Rodamos nossa reação e vemos o resultado\n",
        "reacao1.RunReactants((subs1, ))[0][0] #ele trata a reação como uma tupla"
      ],
      "metadata": {
        "id": "Q5Vw-sEp8zRG",
        "colab": {
          "base_uri": "https://localhost:8080/",
          "height": 185
        },
        "outputId": "5fa6449f-2ce5-4f30-efe9-e54a5c91728a"
      },
      "execution_count": null,
      "outputs": [
        {
          "output_type": "stream",
          "name": "stderr",
          "text": [
            "[20:06:21] product atom-mapping number 1 not found in reactants.\n"
          ]
        },
        {
          "output_type": "execute_result",
          "data": {
            "text/plain": [
              "<rdkit.Chem.rdchem.Mol at 0x7d4d8770a0a0>"
            ],
            "image/png": "[encoded data removed]"
          },
          "metadata": {},
          "execution_count": 11
        }
      ]
    },
    {
      "cell_type": "code",
      "source": [
        "#Reaproveitando a reação\n",
        "subs3 = Chem.MolFromSmiles('CCCCCC=C')\n",
        "Draw.MolToImage(subs3)"
      ],
      "metadata": {
        "id": "fQQ2bWjP_Khr",
        "colab": {
          "base_uri": "https://localhost:8080/",
          "height": 317
        },
        "outputId": "6daf814e-e33a-4d2c-87e2-2016cb8192c2"
      },
      "execution_count": null,
      "outputs": [
        {
          "output_type": "execute_result",
          "data": {
            "text/plain": [
              "<PIL.PngImagePlugin.PngImageFile image mode=RGB size=300x300>"
            ],
            "image/png": "[encoded data removed]"
          },
          "metadata": {},
          "execution_count": 23
        }
      ]
    },
    {
      "cell_type": "code",
      "source": [
        "reacao1 = AllChem.ReactionFromSmarts('[#6:2]=[#6:3]>>[#6:3][#6:2][Br:1]')\n",
        "reacao1.RunReactants((subs3, ))[0][0]"
      ],
      "metadata": {
        "id": "eaGEMZjd_lXk",
        "colab": {
          "base_uri": "https://localhost:8080/",
          "height": 185
        },
        "outputId": "1e5478bc-a5a7-4b27-c123-8e474f3ab13f"
      },
      "execution_count": null,
      "outputs": [
        {
          "output_type": "stream",
          "name": "stderr",
          "text": [
            "[20:14:59] product atom-mapping number 1 not found in reactants.\n"
          ]
        },
        {
          "output_type": "execute_result",
          "data": {
            "text/plain": [
              "<rdkit.Chem.rdchem.Mol at 0x7d4d8772e880>"
            ],
            "image/png": "[encoded data removed]"
          },
          "metadata": {},
          "execution_count": 25
        }
      ]
    },
    {
      "cell_type": "markdown",
      "source": [
        "Também podemos visualizar a reação de outra forma. Abaixo o ecxemplo de adição de um bromo a uma molécula de etano."
      ],
      "metadata": {
        "id": "K-HiRAgzFjMu"
      }
    },
    {
      "cell_type": "code",
      "source": [
        "# Defina uma reação SMARTS válida\n",
        "reaction_smarts = \"[#6:1]>>[#6:1][Br:2]\"\n",
        "reaction = AllChem.ReactionFromSmarts(reaction_smarts)\n",
        "\n",
        "# Execute a reação com um substrato\n",
        "substrate = Chem.MolFromSmiles('CC')\n",
        "products = reaction.RunReactants((substrate, ))\n",
        "\n",
        "# Crie uma representação do desenho\n",
        "img_size = (300, 150)\n",
        "drawer = Draw.MolDraw2DCairo(*img_size)\n",
        "\n",
        "# Desenhe a reação\n",
        "drawer.DrawReaction(reaction)\n",
        "\n",
        "# Acesse o texto do desenho\n",
        "drawing_text = drawer.GetDrawingText()\n",
        "\n",
        "# Salve a imagem da reação em um arquivo\n",
        "img_file = 'reaction.png'\n",
        "drawer.FinishDrawing()\n",
        "img = drawer.GetDrawingText()\n",
        "with open(img_file, 'wb') as f:\n",
        "    f.write(img)\n",
        "\n",
        "# Abra o arquivo da imagem\n",
        "from PIL import Image\n",
        "Image.open(img_file).show()\n"
      ],
      "metadata": {
        "id": "B2qOQXHRE7NA",
        "colab": {
          "base_uri": "https://localhost:8080/"
        },
        "outputId": "13f0ab3b-5777-42bd-a9f0-3b8becbd7e61"
      },
      "execution_count": null,
      "outputs": [
        {
          "output_type": "stream",
          "name": "stderr",
          "text": [
            "[20:16:42] product atom-mapping number 2 not found in reactants.\n"
          ]
        }
      ]
    },
    {
      "cell_type": "markdown",
      "source": [
        "##Referências da Aula\n",
        "###Banco de Dados para desenhar moléculas e obter seu SMILES\n",
        "https://zinc.docking.org/substances/home/\n",
        "\n",
        "\n",
        "##Para saber mais sobre SMARTS\n",
        "https://www.herongyang.com/Cheminformatics/Babel-Substructure-Search-with-SMARTS-Expressions.html\n",
        "\n",
        "https://www.daylight.com/dayhtml/doc/theory/theory.smarts.html\n",
        "\n",
        "##Quer conhecer mais aplicações? Veja o projeto desse usuário no github\n",
        "https://github.com/rdkit/rdkit-tutorials/tree/master"
      ],
      "metadata": {
        "id": "q6mkKIZ75m3a"
      }
    }
  ]
}