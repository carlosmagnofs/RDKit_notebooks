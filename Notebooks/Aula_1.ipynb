{
  "nbformat": 4,
  "nbformat_minor": 0,
  "metadata": {
    "colab": {
      "provenance": []
    },
    "kernelspec": {
      "name": "python3",
      "display_name": "Python 3"
    },
    "language_info": {
      "name": "python"
    }
  },
  "cells": [
    {
      "cell_type": "markdown",
      "source": [
        "# Aula 01: Introdução ao RDKit\n"
      ],
      "metadata": {
        "id": "s74cgL9qa5rh"
      }
    },
    {
      "cell_type": "markdown",
      "source": [
        "Para instalar o RDKit podemos utilizar o pip install.\n",
        "Como se trata de uma biblioteca externa sempre que for rodar algum código é necessário importá-la."
      ],
      "metadata": {
        "id": "bPcCBL89epzT"
      }
    },
    {
      "cell_type": "code",
      "source": [
        "# Install RDKit.\n",
        "%%capture\n",
        "!pip install rdkit"
      ],
      "metadata": {
        "id": "XYKbcDL3b-ul"
      },
      "execution_count": null,
      "outputs": []
    },
    {
      "cell_type": "markdown",
      "source": [
        "Para trabalhar com SMILES precisamos utilizar o módulo Chem."
      ],
      "metadata": {
        "id": "MuOVEfcQjKBS"
      }
    },
    {
      "cell_type": "code",
      "source": [
        "#Importação do módulo Chem\n",
        "from rdkit import Chem"
      ],
      "metadata": {
        "id": "k7uWj5BIY19k"
      },
      "execution_count": null,
      "outputs": []
    },
    {
      "cell_type": "markdown",
      "source": [
        "Leitura de moléculas: Smiles, Mol ou MolBlock"
      ],
      "metadata": {
        "id": "tajvmw8ZjajQ"
      }
    },
    {
      "cell_type": "code",
      "source": [
        "#Função \"MolFromSmiles()\"\n",
        "mol = Chem.MolFromSmiles('c1ccccc1')\n",
        "\n",
        "#Função \"MolFromMolFile()\"\n",
        "#mol_from_file = Chem.MolFromMolFile('example.mol')\n",
        "\n",
        "#Função \"MolFromMolBlock()\"\n",
        "#molblock = \"\"\"\n",
        "#Your Molfile data here...\n",
        "#\"\"\"\n",
        "#mol = Chem.MolFromMolBlock(molblock)"
      ],
      "metadata": {
        "id": "aJAsvbOLc2ci"
      },
      "execution_count": null,
      "outputs": []
    },
    {
      "cell_type": "code",
      "source": [
        "#Conversão de Moléculas\n",
        "smiles = Chem.MolToSmiles(mol)\n",
        "mol_block = Chem.MolToMolBlock(mol)\n",
        "\n",
        "mol_block"
      ],
      "metadata": {
        "id": "DsPWXvZhd-Og",
        "colab": {
          "base_uri": "https://localhost:8080/",
          "height": 73
        },
        "outputId": "39228c49-aea6-41b7-b582-04406014ecfc"
      },
      "execution_count": null,
      "outputs": [
        {
          "output_type": "execute_result",
          "data": {
            "text/plain": [
              "'\\n     RDKit          2D\\n\\n  6  6  0  0  0  0  0  0  0  0999 V2000\\n    1.5000    0.0000    0.0000 C   0  0  0  0  0  0  0  0  0  0  0  0\\n    0.7500   -1.2990    0.0000 C   0  0  0  0  0  0  0  0  0  0  0  0\\n   -0.7500   -1.2990    0.0000 C   0  0  0  0  0  0  0  0  0  0  0  0\\n   -1.5000    0.0000    0.0000 C   0  0  0  0  0  0  0  0  0  0  0  0\\n   -0.7500    1.2990    0.0000 C   0  0  0  0  0  0  0  0  0  0  0  0\\n    0.7500    1.2990    0.0000 C   0  0  0  0  0  0  0  0  0  0  0  0\\n  1  2  2  0\\n  2  3  1  0\\n  3  4  2  0\\n  4  5  1  0\\n  5  6  2  0\\n  6  1  1  0\\nM  END\\n'"
            ],
            "application/vnd.google.colaboratory.intrinsic+json": {
              "type": "string"
            }
          },
          "metadata": {},
          "execution_count": 7
        }
      ]
    },
    {
      "cell_type": "markdown",
      "source": [
        "##Referências da Aula\n",
        "###Módulo Chem\n",
        "https://www.rdkit.org/docs/source/rdkit.Chem.html\n",
        "###Para saber mais\n",
        "https://reginaldoleao.wordpress.com/2020/09/12/propriedades-moleculares-e-formulas-estruturais-com-rdkit-no-python/\n",
        "\n",
        "https://www.scielo.br/j/qn/a/K6fzXSJWRGLmqzkbfbBsqrj/\n",
        "\n",
        "###Banco de dados com SMILES\n",
        "https://www.ebi.ac.uk/chembl/compound_report_card/CHEMBL277500/*\n",
        "\n",
        "###Conversão de imagem para Smiles\n",
        "https://mathpix.com/blog/image-to-smiles-converter\n",
        "\n",
        "###Banco de dados com MDL Molfile\n",
        "https://www.molinstincts.com/sdf-mol-file/benzene-sdf-CT1001419667.html\n"
      ],
      "metadata": {
        "id": "q6mkKIZ75m3a"
      }
    }
  ]
}