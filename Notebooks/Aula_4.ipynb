{
  "nbformat": 4,
  "nbformat_minor": 0,
  "metadata": {
    "colab": {
      "provenance": []
    },
    "kernelspec": {
      "name": "python3",
      "display_name": "Python 3"
    },
    "language_info": {
      "name": "python"
    }
  },
  "cells": [
    {
      "cell_type": "code",
      "execution_count": null,
      "metadata": {
        "id": "zazcnbd1mdqp"
      },
      "outputs": [],
      "source": [
        "%%capture\n",
        "!pip install rdkit"
      ]
    },
    {
      "cell_type": "code",
      "source": [
        "from rdkit import Chem"
      ],
      "metadata": {
        "id": "28-p4ePhnw8E"
      },
      "execution_count": null,
      "outputs": []
    },
    {
      "cell_type": "markdown",
      "source": [
        "\n",
        "\n",
        "---\n",
        "\n",
        "**AULA 4: MODIFICANDO MOLÉCULAS**"
      ],
      "metadata": {
        "id": "H-06UePakCDE"
      }
    },
    {
      "cell_type": "code",
      "source": [
        "#Definindo moléculas iniciais\n",
        "\n",
        "mol1 = Chem.MolFromSmiles(\"CCO\")\n",
        "mol1"
      ],
      "metadata": {
        "id": "GLKbXCXgkPzK",
        "colab": {
          "base_uri": "https://localhost:8080/",
          "height": 167
        },
        "outputId": "6e85d8c0-bce4-4f63-de36-25f32d61df7e"
      },
      "execution_count": null,
      "outputs": [
        {
          "output_type": "execute_result",
          "data": {
            "text/plain": [
              "<rdkit.Chem.rdchem.Mol at 0x78054c973d80>"
            ],
            "image/png": "[encoded data removed]"
          },
          "metadata": {},
          "execution_count": 5
        }
      ]
    },
    {
      "cell_type": "code",
      "source": [
        "mol2 = Chem.MolFromSmiles(\"C1=CC=CC=C1\")\n",
        "mol2"
      ],
      "metadata": {
        "id": "uDswvpeKrGAO",
        "colab": {
          "base_uri": "https://localhost:8080/",
          "height": 167
        },
        "outputId": "124f8739-0265-41f9-f9ab-b9e95bcb05c2"
      },
      "execution_count": null,
      "outputs": [
        {
          "output_type": "execute_result",
          "data": {
            "text/plain": [
              "<rdkit.Chem.rdchem.Mol at 0x7dfd82d1cdd0>"
            ],
            "image/png": "[encoded data removed]"
          },
          "metadata": {},
          "execution_count": 58
        }
      ]
    },
    {
      "cell_type": "markdown",
      "source": [
        "**---- EXIBIÇÃO DE HIDROGÊNIOS ----**"
      ],
      "metadata": {
        "id": "H3__w2Udl5Ys"
      }
    },
    {
      "cell_type": "code",
      "source": [
        "#Função .AddHs()\n",
        "#cria uma nova molécula em que os hidrogênios são exibidos\n",
        "\n",
        "mol1_h = Chem.AddHs(mol1)\n",
        "mol1_h"
      ],
      "metadata": {
        "id": "6KSyyLoNmIn1",
        "colab": {
          "base_uri": "https://localhost:8080/",
          "height": 167
        },
        "outputId": "8d71bf18-ce55-4260-b92b-99f291c704c7"
      },
      "execution_count": null,
      "outputs": [
        {
          "output_type": "execute_result",
          "data": {
            "text/plain": [
              "<rdkit.Chem.rdchem.Mol at 0x7dfd82d1cf20>"
            ],
            "image/png": "[encoded data removed]"
          },
          "metadata": {},
          "execution_count": 54
        }
      ]
    },
    {
      "cell_type": "code",
      "source": [
        "#Os H são considerados na contagem agora\n",
        "\n",
        "print(mol1.GetNumAtoms())\n",
        "print(mol1_h.GetNumAtoms())"
      ],
      "metadata": {
        "id": "cg6VW4q-mdUG",
        "colab": {
          "base_uri": "https://localhost:8080/"
        },
        "outputId": "a69e07f8-6c27-408e-8e5c-16ea06f1a754"
      },
      "execution_count": null,
      "outputs": [
        {
          "output_type": "stream",
          "name": "stdout",
          "text": [
            "3\n",
            "9\n"
          ]
        }
      ]
    },
    {
      "cell_type": "code",
      "source": [
        "#Função .RemoveHs()\n",
        "#cria uma nova molécula em que os H são omitidos\n",
        "mol1_ = Chem.RemoveHs(mol1_h)\n",
        "mol1_\n",
        "\n"
      ],
      "metadata": {
        "id": "zP1DsdnDmzLk",
        "colab": {
          "base_uri": "https://localhost:8080/",
          "height": 167
        },
        "outputId": "07f25a02-ca39-483c-f4eb-621148038160"
      },
      "execution_count": null,
      "outputs": [
        {
          "output_type": "execute_result",
          "data": {
            "text/plain": [
              "<rdkit.Chem.rdchem.Mol at 0x7dfd82d1d310>"
            ],
            "image/png": "[encoded data removed]"
          },
          "metadata": {},
          "execution_count": 56
        }
      ]
    },
    {
      "cell_type": "code",
      "source": [
        "print(mol1_.GetNumAtoms())"
      ],
      "metadata": {
        "id": "BoTooY1HnPQI",
        "colab": {
          "base_uri": "https://localhost:8080/"
        },
        "outputId": "d7163de6-3b98-4cd7-ca74-51717c04cd05"
      },
      "execution_count": null,
      "outputs": [
        {
          "output_type": "stream",
          "name": "stdout",
          "text": [
            "3\n"
          ]
        }
      ]
    },
    {
      "cell_type": "markdown",
      "source": [
        "**---- ANÉIS ----**"
      ],
      "metadata": {
        "id": "hU_ztxVRnhZM"
      }
    },
    {
      "cell_type": "code",
      "source": [
        "#Função .Kekulize()\n",
        "#o programa naturalmente classifica todas as ligações de um anel aromático como \"AROMATIC\", considerando o efeito de ressonância\n",
        "#a função kekulize muda essa classificação desconsiderando o efeito de ressonância, e diferenciando as ligações simples e duplas\n",
        "\n",
        "#Sem a função\n",
        "\n",
        "print(\"Tipos de ligação da molécula:\")\n",
        "for i in mol2.GetBonds():\n",
        "  print(i.GetBondType())\n",
        "\n"
      ],
      "metadata": {
        "id": "Fl1HbCoZnl36",
        "colab": {
          "base_uri": "https://localhost:8080/"
        },
        "outputId": "a6a9c1e3-88f8-4939-b5b2-b201896d7768"
      },
      "execution_count": null,
      "outputs": [
        {
          "output_type": "stream",
          "name": "stdout",
          "text": [
            "Tipos de ligação da molécula:\n",
            "AROMATIC\n",
            "AROMATIC\n",
            "AROMATIC\n",
            "AROMATIC\n",
            "AROMATIC\n",
            "AROMATIC\n"
          ]
        }
      ]
    },
    {
      "cell_type": "code",
      "source": [
        "#Com a função\n",
        "\n",
        "Chem.Kekulize(mol2)\n",
        "\n",
        "print(\"Tipos de ligação da molécula:\")\n",
        "for i in mol2.GetBonds():\n",
        "  print(i.GetBondType())"
      ],
      "metadata": {
        "id": "Jw-8nPDWsnVc",
        "colab": {
          "base_uri": "https://localhost:8080/"
        },
        "outputId": "ed6d1f2f-709b-414d-e9b9-354996408e5d"
      },
      "execution_count": null,
      "outputs": [
        {
          "output_type": "stream",
          "name": "stdout",
          "text": [
            "Tipos de ligação da molécula:\n",
            "DOUBLE\n",
            "SINGLE\n",
            "DOUBLE\n",
            "SINGLE\n",
            "DOUBLE\n",
            "SINGLE\n"
          ]
        }
      ]
    },
    {
      "cell_type": "code",
      "source": [
        "#Internamente o programa ainda classifa aquelas ligações como \"AROMATIC\"\n",
        "\n",
        "mol2.GetBondWithIdx(2).GetIsAromatic()"
      ],
      "metadata": {
        "id": "C7QrBB9is8nZ",
        "colab": {
          "base_uri": "https://localhost:8080/"
        },
        "outputId": "b29e7b35-19cf-4a7c-e4b0-d4d7cf40e24d"
      },
      "execution_count": null,
      "outputs": [
        {
          "output_type": "execute_result",
          "data": {
            "text/plain": [
              "True"
            ]
          },
          "metadata": {},
          "execution_count": 64
        }
      ]
    },
    {
      "cell_type": "code",
      "source": [
        "#Para mudar a classificação precisamos especificar na função Kekulize\n",
        "\n",
        "Chem.Kekulize(mol2, clearAromaticFlags=True)\n",
        "mol2.GetBondWithIdx(0).GetIsAromatic()"
      ],
      "metadata": {
        "id": "kDH5MWZ_tbjo",
        "colab": {
          "base_uri": "https://localhost:8080/"
        },
        "outputId": "63e45173-d963-4a68-adc0-5eeba74f0263"
      },
      "execution_count": null,
      "outputs": [
        {
          "output_type": "execute_result",
          "data": {
            "text/plain": [
              "False"
            ]
          },
          "metadata": {},
          "execution_count": 67
        }
      ]
    },
    {
      "cell_type": "code",
      "source": [
        "#Função .SanitizeMol()\n",
        "#desfaz as alterações feitas\n",
        "\n",
        "Chem.SanitizeMol(mol2)\n",
        "\n",
        "print(\"Tipos de ligação da molécula:\")\n",
        "for i in mol2.GetBonds():\n",
        "  print(i.GetBondType())\n",
        "\n",
        "print(\"\\n\")\n",
        "mol2.GetBondWithIdx(0).GetIsAromatic()"
      ],
      "metadata": {
        "id": "GVAHRzWMur75",
        "colab": {
          "base_uri": "https://localhost:8080/"
        },
        "outputId": "e8c79773-a55d-4283-faee-7efc789a71c8"
      },
      "execution_count": null,
      "outputs": [
        {
          "output_type": "stream",
          "name": "stdout",
          "text": [
            "Tipos de ligação da molécula:\n",
            "AROMATIC\n",
            "AROMATIC\n",
            "AROMATIC\n",
            "AROMATIC\n",
            "AROMATIC\n",
            "AROMATIC\n",
            "\n",
            "\n"
          ]
        },
        {
          "output_type": "execute_result",
          "data": {
            "text/plain": [
              "True"
            ]
          },
          "metadata": {},
          "execution_count": 68
        }
      ]
    }
  ]
}